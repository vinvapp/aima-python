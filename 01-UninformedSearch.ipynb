{
 "cells": [
  {
   "cell_type": "markdown",
   "metadata": {},
   "source": [
    "# Uninformed Search\n",
    "\n",
    "This notebook serves as supporting material for topics covered in **Lecture 3 - Uninformed Search** from the lecture *Grundlagen der Künstlichen Intelligenz (IN2062)* at the Technical University of Munich. This notebook uses implementations from [search.py](https://github.com/aimacode/aima-python/blob/master/search.py) module. Let's start by importing everything from the search module."
   ]
  },
  {
   "cell_type": "markdown",
   "metadata": {},
   "source": [
    "## How to use this notebook\n",
    "Clone the aima-python repository to your local machine, and add this notebook as well as `search_helpers.py` **directly** to the root directory of aima-python in order to make the following imports work.\n",
    "\n",
    "There is also a bigger notebook, *search.ipynb*, in the same root directory, which contains more examples from the book *Artificial Intelligence: A Modern Approach*. "
   ]
  },
  {
   "cell_type": "code",
   "execution_count": null,
   "metadata": {},
   "outputs": [],
   "source": [
    "from search import *\n",
    "from notebook import psource, heatmap, gaussian_kernel, show_map, final_path_colors, display_visual, plot_NQueens\n",
    "\n",
    "# Needed to hide warnings in the matplotlib sections\n",
    "import warnings\n",
    "warnings.filterwarnings(\"ignore\")"
   ]
  },
  {
   "cell_type": "markdown",
   "metadata": {},
   "source": [
    "## CONTENTS\n",
    "\n",
    "* Visualization and Problem Setup\n",
    "* Search algorithms\n",
    "  1. Breadth-First Search\n",
    "  2. Uniform-Cost Search\n",
    "  3. Depth-First Search\n",
    "  4. Depth-Limited Search\n",
    "  5. Iterative Deepening Search\n",
    "* What's next"
   ]
  },
  {
   "cell_type": "markdown",
   "metadata": {},
   "source": [
    "# Visualization and Problem Setup\n",
    "For visualisations, we use networkx and matplotlib to show the map in the notebook and we use ipywidgets to interact with the map to see how the searching algorithm works. These are imported as required in `notebook.py`."
   ]
  },
  {
   "cell_type": "code",
   "execution_count": null,
   "metadata": {},
   "outputs": [],
   "source": [
    "%matplotlib inline\n",
    "import networkx as nx\n",
    "import matplotlib.pyplot as plt\n",
    "from matplotlib import lines\n",
    "\n",
    "from ipywidgets import interact\n",
    "import ipywidgets as widgets\n",
    "from IPython.display import display\n",
    "import time"
   ]
  },
  {
   "cell_type": "markdown",
   "metadata": {},
   "source": [
    "Let's start by looking at a simple tree-search problem in **Lecture 3, Slides 32-43** and set up our tree structure."
   ]
  },
  {
   "cell_type": "code",
   "execution_count": null,
   "metadata": {},
   "outputs": [],
   "source": [
    "simple_tree = UndirectedGraph(dict(\n",
    "    A = dict(B=None, C=None),\n",
    "    B = dict(D=None, E=None),\n",
    "    C = dict(F=None, G=None)\n",
    "))\n",
    "\n",
    "simple_tree.locations = dict(\n",
    "    A = (35, 40), \n",
    "    B = (15, 20), C = (55, 20),\n",
    "    D = (0, 0), E = (30, 0), F = (40, 0), G = (70, 0)\n",
    ")"
   ]
  },
  {
   "cell_type": "markdown",
   "metadata": {},
   "source": [
    "`UndirectedGraph` is a `Graph` class in the `search.py` that allows you to construct a graph easily. Here we need a tree structure, which is just an undirected graph. If you are interested, see how the `Graph` class is constructed in `search.py`.\n",
    "\n",
    "`locations` here gives the (x, y) coordinates in the canvas, and we will draw each node in our tree structure according to the `locations`."
   ]
  },
  {
   "cell_type": "code",
   "execution_count": null,
   "metadata": {},
   "outputs": [],
   "source": [
    "simple_tree_locations = simple_tree.locations\n",
    "print(simple_tree_locations)"
   ]
  },
  {
   "cell_type": "markdown",
   "metadata": {},
   "source": [
    "To visualize the tree, we define a function `show_tree`. This function is originated from the `show_map` function in the `notebook` module, we made some modification to fit this notebook better. \n",
    "\n",
    "The `display_steps` funtion helps us to visualize the search algorithms step by step. "
   ]
  },
  {
   "cell_type": "code",
   "execution_count": null,
   "metadata": {},
   "outputs": [],
   "source": [
    "from search_helpers import show_tree, display_steps"
   ]
  },
  {
   "cell_type": "markdown",
   "metadata": {},
   "source": [
    "Now we feed in the necessary data and plot the tree structure. "
   ]
  },
  {
   "cell_type": "code",
   "execution_count": null,
   "metadata": {},
   "outputs": [],
   "source": [
    "# node colors, node positions and node label positions\n",
    "node_colors = {node: 'white' for node in simple_tree.locations.keys()}\n",
    "node_positions = simple_tree.locations\n",
    "node_label_pos = { k:[v[0]-3,v[1]]  for k,v in simple_tree.locations.items() }\n",
    "edge_weights = {(k, k2) : v2 for k, v in simple_tree.graph_dict.items() for k2, v2 in v.items()}\n",
    "\n",
    "simple_tree_data = {  'graph_dict' : simple_tree.graph_dict,\n",
    "                      'node_colors': node_colors,\n",
    "                      'node_positions': node_positions,\n",
    "                      'node_label_positions': node_label_pos,\n",
    "                      'edge_weights': edge_weights\n",
    "                     }"
   ]
  },
  {
   "cell_type": "code",
   "execution_count": null,
   "metadata": {},
   "outputs": [],
   "source": [
    "show_tree(simple_tree_data)"
   ]
  },
  {
   "cell_type": "markdown",
   "metadata": {},
   "source": [
    "# 1. Breadth-First Search\n",
    "The following code is a working implementation in search module with some minor modification. The pseudo code can also be found in **Lecture 3, Slide 30**.\n",
    "\n",
    "This is the simple form of a BFS algorithm, the following code block just added some additional lines for visualization purpose based on this. \n",
    "\n",
    "\n",
    "```python\n",
    "def breadth_first_graph_search(problem):\n",
    "    \"\"\"Search the shallowest nodes in the search tree first.\n",
    "        Search through the successors of a problem to find a goal.\n",
    "        The argument frontier should be an empty queue.\"\"\"\n",
    "    \n",
    "    # Check if starting node == goal\n",
    "    node = Node(problem.initial)\n",
    "    if problem.goal_test(node.state):\n",
    "        return node\n",
    "    \n",
    "    # Add children of initial node to frontier\n",
    "    frontier = deque([Node(problem.initial)])  # FIFO queue\n",
    "    \n",
    "    # Explore frontier\n",
    "    while frontier:\n",
    "        node = frontier.popleft()\n",
    "        explored.add(node.state)\n",
    "        if problem.goal_test(node.state):\n",
    "            return node\n",
    "        for child in node.expand(problem):\n",
    "            if child.state not in explored and child not in frontier:\n",
    "                if problem.goal_test(child.state):\n",
    "                    return child\n",
    "                frontier.append(child)\n",
    "    return None\n",
    "```"
   ]
  },
  {
   "cell_type": "code",
   "execution_count": null,
   "metadata": {},
   "outputs": [],
   "source": [
    "def breadth_first_search_graph_vis(problem):\n",
    "    \"\"\"Search through the successors of a problem to find a goal.\n",
    "    The argument frontier should be an empty queue.\"\"\"\n",
    "    \n",
    "    # we use these two variables at the time of visualisation\n",
    "    iterations = 0\n",
    "    all_node_colors = []\n",
    "    node_colors = {k : 'white' for k in problem.graph.nodes()}\n",
    "    \n",
    "    node = Node(problem.initial)\n",
    "    \n",
    "    node_colors[node.state] = \"red\"\n",
    "    iterations += 1\n",
    "    all_node_colors.append(dict(node_colors))\n",
    "      \n",
    "    if problem.goal_test(node.state):\n",
    "        node_colors[node.state] = \"green\"\n",
    "        iterations += 1\n",
    "        all_node_colors.append(dict(node_colors))\n",
    "        return(iterations, all_node_colors, node)\n",
    "    \n",
    "    frontier = deque([node])\n",
    "    \n",
    "    # modify the color of frontier nodes to blue\n",
    "    node_colors[node.state] = \"orange\"\n",
    "    iterations += 1\n",
    "    all_node_colors.append(dict(node_colors))\n",
    "        \n",
    "    explored = set()\n",
    "    while frontier:\n",
    "        node = frontier.popleft()\n",
    "        node_colors[node.state] = \"red\"\n",
    "        iterations += 1\n",
    "        all_node_colors.append(dict(node_colors))\n",
    "        \n",
    "        explored.add(node.state) \n",
    "        \n",
    "        for child in node.expand(problem):\n",
    "            if child.state not in explored and child not in frontier:\n",
    "                if problem.goal_test(child.state):\n",
    "                    node_colors[child.state] = \"green\"\n",
    "                    iterations += 1\n",
    "                    all_node_colors.append(dict(node_colors))\n",
    "                    return(iterations, all_node_colors, child)\n",
    "                frontier.append(child)\n",
    "\n",
    "                node_colors[child.state] = \"orange\"\n",
    "                iterations += 1\n",
    "                all_node_colors.append(dict(node_colors))\n",
    "                \n",
    "        node_colors[node.state] = \"gray\"\n",
    "        iterations += 1\n",
    "        all_node_colors.append(dict(node_colors))\n",
    "    return None\n",
    "\n",
    "def breadth_first_graph_search(problem):\n",
    "    \"Search the shallowest nodes in the search tree first.\"\n",
    "    iterations, all_node_colors, node = breadth_first_search_graph_vis(problem)\n",
    "    return(iterations, all_node_colors, node)"
   ]
  },
  {
   "cell_type": "markdown",
   "metadata": {},
   "source": [
    "Now to run the algorithm: \n",
    "\n",
    "Execute the following code block, you will see a **\"visualize\" button** directly beneath the **\"iteration\" slider** if you are running this notebook for the first time. Otherwise you can always find the button on the bottom.\n",
    "\n",
    "Click the **\"visualize\" button** and let the search algorithm run through, once it's completed, you can use the **slider** to see all the iterations step by step. "
   ]
  },
  {
   "cell_type": "code",
   "execution_count": null,
   "metadata": {},
   "outputs": [],
   "source": [
    "all_node_colors = []\n",
    "BFS_problem = GraphProblem('A', 'F', simple_tree)\n",
    "a, b, c = breadth_first_graph_search(BFS_problem)\n",
    "display_steps(simple_tree_data, user_input=False, \n",
    "              algorithm=breadth_first_graph_search, \n",
    "              problem=BFS_problem)\n"
   ]
  },
  {
   "cell_type": "markdown",
   "metadata": {},
   "source": [
    "# 2. Uniform-Cost Search (aka Dijkstra's algorithm)\n",
    "\n",
    "When all step costs are equal, breadth-first is optimal because it always expands the shallowest nodes.\n",
    "\n",
    "Uniform-cost search is optimal for any step costs, as it expands the node with the lowest path cost *g(n)*.\n",
    "\n",
    "In the following code blocks, we will model a simple tree structure with edge weights this time, and apply the uniform-cost search. The corresponding example is in ***Lecture 3, Slide 55-72***"
   ]
  },
  {
   "cell_type": "code",
   "execution_count": null,
   "metadata": {},
   "outputs": [],
   "source": [
    "simple_tree1 = UndirectedGraph(dict(\n",
    "    A = dict(B=2, C=3),\n",
    "    B = dict(D=1, E=4),\n",
    "    C = dict(F=5, G=2)\n",
    "))\n",
    "\n",
    "simple_tree1.locations = dict(\n",
    "    A = (35, 40), \n",
    "    B = (15, 20), C = (55, 20),\n",
    "    D = (0, 0), E = (30, 0), F = (40, 0), G = (70, 0)\n",
    ")"
   ]
  },
  {
   "cell_type": "code",
   "execution_count": null,
   "metadata": {},
   "outputs": [],
   "source": [
    "# node colors, node positions and node label positions\n",
    "node_colors = {node: 'white' for node in simple_tree1.locations.keys()}\n",
    "node_positions = simple_tree1.locations\n",
    "node_label_pos = { k:[v[0]-3,v[1]]  for k,v in simple_tree1.locations.items() }\n",
    "edge_weights = {(k, k2) : v2 for k, v in simple_tree1.graph_dict.items() for k2, v2 in v.items()}\n",
    "\n",
    "simple_tree1_data = {  'graph_dict' : simple_tree1.graph_dict,\n",
    "                       'node_colors': node_colors,\n",
    "                       'node_positions': node_positions,\n",
    "                       'node_label_positions': node_label_pos,\n",
    "                       'edge_weights': edge_weights\n",
    "                     }"
   ]
  },
  {
   "cell_type": "code",
   "execution_count": null,
   "metadata": {},
   "outputs": [],
   "source": [
    "show_tree(simple_tree1_data)"
   ]
  },
  {
   "cell_type": "markdown",
   "metadata": {},
   "source": [
    "Now we give the uniform-cost search algorithm with some additional lines for visualization. You can also find the pseudo code in ***Lecture 3, Slide 55***. \n",
    "\n",
    "<div class=\"alert alert-info\">\n",
    "    <h3>Note</h3>\n",
    "    <p>Here we use the concept from <a href=\"https://github.com/aimacode/aima-python\">aima-python</a>.</p> \n",
    "    <p>The uniform-cost search is based on the so-called <b>best-first graph search</b>. </p>\n",
    "    <p>In the next notebook <i>InformedSearch.ipynb</i>, you will see that the <i>greedy best-first search</i> and <i>A-star search</i> can also use this as a foundation. The only change that needs to be made is the cost evaluation function. </p>\n",
    "</div>"
   ]
  },
  {
   "cell_type": "code",
   "execution_count": null,
   "metadata": {},
   "outputs": [],
   "source": [
    "def best_first_graph_search_for_vis(problem, f):\n",
    "    \"\"\"Search the nodes with the lowest f scores first.\n",
    "    You specify the function f(node) that you want to minimize; for example,\n",
    "    if f is a heuristic estimate to the goal, then we have greedy best\n",
    "    first search; if f is node.depth then we have breadth-first search.\n",
    "    There is a subtlety: the line \"f = memoize(f, 'f')\" means that the f\n",
    "    values will be cached on the nodes as they are computed. So after doing\n",
    "    a best first search you can examine the f values of the path returned.\"\"\"\n",
    "    \n",
    "    # we use these two variables at the time of visualisations\n",
    "    iterations = 0\n",
    "    all_node_colors = []\n",
    "    node_colors = {k : 'white' for k in problem.graph.nodes()}\n",
    "    \n",
    "    f = memoize(f, 'f')\n",
    "    node = Node(problem.initial)\n",
    "    \n",
    "    node_colors[node.state] = \"red\"\n",
    "    iterations += 1\n",
    "    all_node_colors.append(dict(node_colors))\n",
    "    \n",
    "    if problem.goal_test(node.state):\n",
    "        node_colors[node.state] = \"green\"\n",
    "        iterations += 1\n",
    "        all_node_colors.append(dict(node_colors))\n",
    "        return(iterations, all_node_colors, node)\n",
    "    \n",
    "    frontier = PriorityQueue('min', f)\n",
    "    frontier.append(node)\n",
    "    \n",
    "    node_colors[node.state] = \"orange\"\n",
    "    iterations += 1\n",
    "    all_node_colors.append(dict(node_colors))\n",
    "    \n",
    "    explored = set()\n",
    "    while frontier:\n",
    "        node = frontier.pop()\n",
    "        \n",
    "        node_colors[node.state] = \"red\"\n",
    "        iterations += 1\n",
    "        all_node_colors.append(dict(node_colors))\n",
    "        \n",
    "        if problem.goal_test(node.state):\n",
    "            node_colors[node.state] = \"green\"\n",
    "            iterations += 1\n",
    "            all_node_colors.append(dict(node_colors))\n",
    "            return(iterations, all_node_colors, node)\n",
    "        \n",
    "        explored.add(node.state)\n",
    "        for child in node.expand(problem):\n",
    "            if child.state not in explored and child not in frontier:\n",
    "                frontier.append(child)\n",
    "                node_colors[child.state] = \"orange\"\n",
    "                iterations += 1\n",
    "                all_node_colors.append(dict(node_colors))\n",
    "            elif child in frontier:\n",
    "                incumbent = frontier[child]\n",
    "                if f(child) < f(incumbent):\n",
    "                    del frontier[incumbent]\n",
    "                    frontier.append(child)\n",
    "                    node_colors[child.state] = \"orange\"\n",
    "                    iterations += 1\n",
    "                    all_node_colors.append(dict(node_colors))\n",
    "\n",
    "        node_colors[node.state] = \"gray\"\n",
    "        iterations += 1\n",
    "        all_node_colors.append(dict(node_colors))\n",
    "    return None\n",
    "\n",
    "# Give the cost evaluation method as parameter, then we get UCS\n",
    "def uniform_cost_search(problem):\n",
    "    return best_first_graph_search_for_vis(problem, lambda node: node.path_cost)"
   ]
  },
  {
   "cell_type": "code",
   "execution_count": null,
   "metadata": {},
   "outputs": [],
   "source": [
    "all_node_colors = []\n",
    "UCS_problem = GraphProblem('A', 'G', simple_tree1)\n",
    "display_steps(simple_tree1_data, user_input=False, \n",
    "               algorithm=uniform_cost_search, \n",
    "               problem=UCS_problem)"
   ]
  },
  {
   "cell_type": "markdown",
   "metadata": {},
   "source": [
    "# 3. Depth-First Search\n",
    "\n",
    "Now let's make a tree with more depth and see how depth-first search works. (Also see **Lecture 3, Slide 75-82**)"
   ]
  },
  {
   "cell_type": "code",
   "execution_count": null,
   "metadata": {},
   "outputs": [],
   "source": [
    "simple_tree2 = Graph(dict(\n",
    "    A = dict(B=None, C=None), B = dict(D=None, E=None),\n",
    "    C = dict(F=None, G=None), D = dict(H=None, I=None),\n",
    "    E = dict(J=None, K=None), F = dict(L=None, M=None),\n",
    "    G = dict(N=None, O=None)\n",
    "))\n",
    "\n",
    "simple_tree2.locations = dict(\n",
    "    A = (45, 55), \n",
    "    B = (25, 35), C = (65, 35),\n",
    "    D = (15, 15), E = (35, 15), F = (55, 15), G = (75, 15),\n",
    "    H = (10, 0), I = (20, 0), J = (30, 0), K = (40, 0),\n",
    "    L = (50, 0), M = (60, 0), N = (70, 0), O = (80, 0)\n",
    ")"
   ]
  },
  {
   "cell_type": "code",
   "execution_count": null,
   "metadata": {},
   "outputs": [],
   "source": [
    "# node colors, node positions and node label positions\n",
    "node_colors = {node: 'white' for node in simple_tree2.locations.keys()}\n",
    "node_positions = simple_tree2.locations\n",
    "node_label_pos = { k:[v[0]-3,v[1]]  for k,v in simple_tree2.locations.items() }\n",
    "edge_weights = {(k, k2) : v2 for k, v in simple_tree2.graph_dict.items() for k2, v2 in v.items()}\n",
    "\n",
    "simple_tree2_data = {  'graph_dict' : simple_tree2.graph_dict,\n",
    "                      'node_colors': node_colors,\n",
    "                      'node_positions': node_positions,\n",
    "                      'node_label_positions': node_label_pos,\n",
    "                      'edge_weights': edge_weights\n",
    "                     }"
   ]
  },
  {
   "cell_type": "code",
   "execution_count": null,
   "metadata": {},
   "outputs": [],
   "source": [
    "show_tree(simple_tree2_data)"
   ]
  },
  {
   "cell_type": "markdown",
   "metadata": {},
   "source": [
    "Again, this is the simple form of a DFS algorithm, the following code block just added some additional lines for visualization purpose based on this. \n",
    "\n",
    "```python\n",
    "def depth_first_graph_search(problem):\n",
    "    \"\"\"Search the deepest nodes in the search tree first.\n",
    "        Search through the successors of a problem to find a goal.\n",
    "        The argument frontier should be an empty queue.\"\"\"\n",
    "    \n",
    "    # Check if starting node == goal\n",
    "    node = Node(problem.initial)\n",
    "    if problem.goal_test(node.state):\n",
    "        return node\n",
    "    \n",
    "    # Add children of initial node to frontier\n",
    "    frontier = deque([Node(problem.initial)])  # FIFO queue\n",
    "\n",
    "    while frontier:\n",
    "        node = frontier.pop()\n",
    "        explored.add(node.state)\n",
    "\n",
    "        if problem.goal_test(node.state):\n",
    "            return node\n",
    "        for child in node.expand(problem):\n",
    "            if child.state not in explored and child not in frontier:\n",
    "                if problem.goal_test(child.state):\n",
    "                    return child\n",
    "                frontier.append(child)\n",
    "    return None\n",
    "```"
   ]
  },
  {
   "cell_type": "code",
   "execution_count": null,
   "metadata": {},
   "outputs": [],
   "source": [
    "def depth_first_search_graph_vis(problem):\n",
    "    \"\"\"Search through the successors of a problem to find a goal.\n",
    "    The argument frontier should be an empty queue.\n",
    "    If two paths reach a state, only use the first one. [Figure 3.7]\"\"\"\n",
    "    # we use these two variables at the time of visualisations\n",
    "    iterations = 0\n",
    "    all_node_colors = []\n",
    "    node_colors = {k : 'white' for k in problem.graph.nodes()}\n",
    "    \n",
    "    frontier = [(Node(problem.initial))]\n",
    "    explored = set()\n",
    "    \n",
    "    # modify the color of frontier nodes to orange\n",
    "    node_colors[Node(problem.initial).state] = \"orange\"\n",
    "    iterations += 1\n",
    "    all_node_colors.append(dict(node_colors))\n",
    "      \n",
    "    while frontier:\n",
    "        # Popping first node of stack\n",
    "        node = frontier.pop()\n",
    "        \n",
    "        # modify the currently searching node to red\n",
    "        node_colors[node.state] = \"red\"\n",
    "        iterations += 1\n",
    "        all_node_colors.append(dict(node_colors))\n",
    "        \n",
    "        if problem.goal_test(node.state):\n",
    "            # modify goal node to green after reaching the goal\n",
    "            node_colors[node.state] = \"green\"\n",
    "            iterations += 1\n",
    "            all_node_colors.append(dict(node_colors))\n",
    "            return(iterations, all_node_colors, node)\n",
    "        \n",
    "        explored.add(node.state)\n",
    "        frontier.extend(child for child in node.expand(problem)\n",
    "                        if child.state not in explored and\n",
    "                        child not in frontier)\n",
    "        \n",
    "        for n in frontier:\n",
    "            # modify the color of new frontier nodes to orange\n",
    "            if not(node_colors[n.state] == \"orange\"):\n",
    "                node_colors[n.state] = \"orange\"\n",
    "                iterations += 1\n",
    "                all_node_colors.append(dict(node_colors))\n",
    "\n",
    "        # modify the color of explored nodes to gray\n",
    "        node_colors[node.state] = \"gray\"\n",
    "        iterations += 1\n",
    "        all_node_colors.append(dict(node_colors))\n",
    "        \n",
    "    return None\n",
    "\n",
    "\n",
    "def depth_first_graph_search(problem):\n",
    "    \"\"\"Search the deepest nodes in the search tree first.\"\"\"\n",
    "    iterations, all_node_colors, node = depth_first_search_graph_vis(problem)\n",
    "    return(iterations, all_node_colors, node)"
   ]
  },
  {
   "cell_type": "code",
   "execution_count": null,
   "metadata": {},
   "outputs": [],
   "source": [
    "all_node_colors = []\n",
    "DFS_problem = GraphProblem('A', 'K', simple_tree2)\n",
    "display_steps(simple_tree2_data, user_input=False, \n",
    "               algorithm=depth_first_graph_search, \n",
    "               problem=DFS_problem)"
   ]
  },
  {
   "cell_type": "markdown",
   "metadata": {},
   "source": [
    "***Note***: Don't be confused if the DFS algorithm here explores node C first after node A (while in the example of the lecture we explore B first). \n",
    "\n",
    "Because we are using a stack here (Last In First Out - LIFO), and the node C is last in the frontier after we have explored A, so the algorithm explores node C after node A. "
   ]
  },
  {
   "cell_type": "markdown",
   "metadata": {},
   "source": [
    "# 4. Depth-Limited Search\n",
    "\n",
    "What if depth-first search does not terminate in infinite state spaces? We can solve this issue by introducing a depth limit. Here we also illustrate how depth-limited search works with the example in ***Lecture 3, Slide 86-101***."
   ]
  },
  {
   "cell_type": "code",
   "execution_count": null,
   "metadata": {},
   "outputs": [],
   "source": [
    "simple_tree3 = Graph(dict(\n",
    "    A = dict(B=None, C=None), \n",
    "    B = dict(D=None, E=None), C = dict(F=None),\n",
    "    E = dict(G=None, H=None)\n",
    "))\n",
    "\n",
    "simple_tree3.locations = dict(\n",
    "    A = (25, 55), \n",
    "    B = (10, 35), C = (40, 35),\n",
    "    D = (0, 15), E = (20, 15), F = (40, 15),\n",
    "    G = (15, 0), H = (25, 0),\n",
    ")"
   ]
  },
  {
   "cell_type": "code",
   "execution_count": null,
   "metadata": {},
   "outputs": [],
   "source": [
    "# node colors, node positions and node label positions\n",
    "node_colors = {node: 'white' for node in simple_tree3.locations.keys()}\n",
    "node_positions = simple_tree3.locations\n",
    "node_label_pos = { k:[v[0]+1.4,v[1]]  for k,v in simple_tree3.locations.items() }\n",
    "edge_weights = {(k, k2) : v2 for k, v in simple_tree3.graph_dict.items() for k2, v2 in v.items()}\n",
    "\n",
    "simple_tree3_data = {  'graph_dict' : simple_tree3.graph_dict,\n",
    "                       'node_colors': node_colors,\n",
    "                       'node_positions': node_positions,\n",
    "                       'node_label_positions': node_label_pos,\n",
    "                       'edge_weights': edge_weights\n",
    "                     }"
   ]
  },
  {
   "cell_type": "code",
   "execution_count": null,
   "metadata": {},
   "outputs": [],
   "source": [
    "show_tree(simple_tree3_data)"
   ]
  },
  {
   "cell_type": "markdown",
   "metadata": {},
   "source": [
    "This is how we construct the depth-limited search in python, for your reference, please also see the pseudo code in ***Lecture 3, Slide 87***\n",
    "```python\n",
    "def depth_limited_search(problem, limit=50):\n",
    "\n",
    "    def recursive_dls(node, problem, limit):\n",
    "        if problem.goal_test(node.state):\n",
    "            return node\n",
    "        elif limit == 0:\n",
    "            return 'cutoff'\n",
    "        else:\n",
    "            cutoff_occurred = False\n",
    "            for child in node.expand(problem):\n",
    "                result = recursive_dls(child, problem, limit - 1)\n",
    "                if result == 'cutoff':\n",
    "                    cutoff_occurred = True\n",
    "                elif result is not None:\n",
    "                    return result\n",
    "            return 'cutoff' if cutoff_occurred else None\n",
    "\n",
    "    # Body of depth_limited_search:\n",
    "    return recursive_dls(Node(problem.initial), problem, limit)\n",
    "```"
   ]
  },
  {
   "cell_type": "code",
   "execution_count": null,
   "metadata": {},
   "outputs": [],
   "source": [
    "def depth_limited_search_for_vis(problem, limit=-1):\n",
    "    '''\n",
    "    Perform depth first search of graph g.\n",
    "    if limit >= 0, that is the maximum depth of the search.\n",
    "    '''\n",
    "    iterations = 0\n",
    "    all_node_colors = []\n",
    "    node_colors = {k : 'white' for k in problem.graph.nodes()}\n",
    "    \n",
    "    frontier = [Node(problem.initial)]\n",
    "    explored = set()\n",
    "    \n",
    "    cutoff_occurred = False\n",
    "    node_colors[Node(problem.initial).state] = \"orange\"\n",
    "    iterations += 1\n",
    "    all_node_colors.append(dict(node_colors))\n",
    "        \n",
    "    \n",
    "    def recursive_dls(node, problem, limit, iterations, all_node_colors, node_colors):\n",
    "        \n",
    "        # modify the currently searching node to red\n",
    "        node_colors[node.state] = \"red\"\n",
    "        all_node_colors.append(dict(node_colors))\n",
    "        \n",
    "        iterations += 1\n",
    "        \n",
    "\n",
    "        if problem.goal_test(node.state):\n",
    "            # modify goal node to green after reaching the goal\n",
    "            node_colors[node.state] = \"green\"\n",
    "            iterations += 1\n",
    "            all_node_colors.append(dict(node_colors))\n",
    "            return (iterations, all_node_colors, node)\n",
    "        \n",
    "        elif limit == 0:\n",
    "            node_colors[node.state] = \"gray\"\n",
    "            iterations += 1\n",
    "            all_node_colors.append(dict(node_colors))\n",
    "            return 'cutoff'\n",
    "            \n",
    "        else:\n",
    "            cutoff_occurred = False\n",
    "            \n",
    "            # paint all the child (namely frontier) to organge.\n",
    "            # this is redundent, but must be done for the visualization purpose\n",
    "            \"\"\"for child in node.expand(problem):\n",
    "                node_colors[child.state] = \"orange\"\n",
    "            all_node_colors.append(dict(node_colors))\"\"\"\n",
    "            \n",
    "            for child in node.expand(problem):\n",
    "                node_colors[child.state] = \"orange\"\n",
    "                all_node_colors.append(dict(node_colors))\n",
    "                result = recursive_dls(child, problem, limit - 1, iterations, all_node_colors, node_colors)\n",
    "                if result == 'cutoff':\n",
    "                    cutoff_occurred = True\n",
    "                elif result is not None:\n",
    "                    return result\n",
    "            if cutoff_occurred:\n",
    "                node_colors[node.state] = \"gray\"\n",
    "                iterations += 1\n",
    "                all_node_colors.append(dict(node_colors))\n",
    "                \n",
    "            \n",
    "            return 'cutoff' if cutoff_occurred else None\n",
    "        \n",
    "\n",
    "    # Body of depth_limited_search:\n",
    "    return recursive_dls(frontier.pop(), problem, limit, iterations, all_node_colors, node_colors)"
   ]
  },
  {
   "cell_type": "code",
   "execution_count": null,
   "metadata": {},
   "outputs": [],
   "source": [
    "# we set limit=2 just like the example in the lecture\n",
    "limit = 2\n",
    "\n",
    "def depth_limited_search(problem, limit = limit):\n",
    "    \"\"\"Search the deepest nodes in the search tree first.\"\"\"\n",
    "\n",
    "    result = depth_limited_search_for_vis(problem, limit=limit)\n",
    "    if result == 'cutoff':\n",
    "        print(\"Due to the limit=%d, the goal state cannot be reached\" % limit)\n",
    "        all_node_colors = []\n",
    "        node_colors = {k : 'white' for k in problem.graph.nodes()}\n",
    "        all_node_colors.append(dict(node_colors))\n",
    "        return(0, all_node_colors, Node(problem.initial))\n",
    "    else:\n",
    "        iterations, all_node_colors, node = depth_limited_search_for_vis(problem, limit=limit)\n",
    "        return(iterations, all_node_colors, node)    "
   ]
  },
  {
   "cell_type": "code",
   "execution_count": null,
   "metadata": {},
   "outputs": [],
   "source": [
    "all_node_colors = []\n",
    "DLS_problem = GraphProblem('A', 'F', simple_tree3)\n",
    "display_steps(simple_tree3_data, user_input=False, \n",
    "               algorithm=depth_limited_search, \n",
    "               problem=DLS_problem)"
   ]
  },
  {
   "cell_type": "markdown",
   "metadata": {},
   "source": [
    "# 5. Iterative Deepening Search\n",
    "\n",
    "As you've seen in the previous section, the problem with depth-limited search is that, we typically don't know the depth of the goal state.\n",
    "\n",
    "The solution for that is to iteratively increase the depth limit when using depth-limited search. We now see an example in ***Lecture 3, Slide 105-106***."
   ]
  },
  {
   "cell_type": "code",
   "execution_count": null,
   "metadata": {},
   "outputs": [],
   "source": [
    "def iterative_deepening_search_for_vis(problem):\n",
    "    for depth in range(sys.maxsize):\n",
    "        result = depth_limited_search_for_vis(problem, limit=depth)\n",
    "        if result == 'cutoff':\n",
    "            print(\"Due to limit=%d, the goal state cannot be reached\" % depth)\n",
    "            continue\n",
    "        else:\n",
    "            iterations, all_node_colors, node = depth_limited_search_for_vis(problem, limit=depth)\n",
    "            return(iterations, all_node_colors, node) \n",
    "        \n",
    "        if iterations:\n",
    "            return (iterations, all_node_colors, node)"
   ]
  },
  {
   "cell_type": "code",
   "execution_count": null,
   "metadata": {},
   "outputs": [],
   "source": [
    "all_node_colors = []\n",
    "IDS_problem = GraphProblem('A', 'M', simple_tree2)\n",
    "display_steps(simple_tree2_data, user_input=False, \n",
    "               algorithm=iterative_deepening_search_for_vis, \n",
    "               problem=IDS_problem)"
   ]
  },
  {
   "cell_type": "markdown",
   "metadata": {},
   "source": [
    "# What's next\n",
    "\n",
    "Congratulation on completing this notebook! Now you have a better understanding of different search algorithms. \n",
    "\n",
    "The next notebook is about ***Lecture 4: Informed Search***\n"
   ]
  },
  {
   "cell_type": "code",
   "execution_count": null,
   "metadata": {},
   "outputs": [],
   "source": []
  }
 ],
 "metadata": {
  "kernelspec": {
   "display_name": "Python 3",
   "language": "python",
   "name": "python3"
  },
  "language_info": {
   "codemirror_mode": {
    "name": "ipython",
    "version": 3
   },
   "file_extension": ".py",
   "mimetype": "text/x-python",
   "name": "python",
   "nbconvert_exporter": "python",
   "pygments_lexer": "ipython3",
   "version": "3.7.9"
  }
 },
 "nbformat": 4,
 "nbformat_minor": 2
}
