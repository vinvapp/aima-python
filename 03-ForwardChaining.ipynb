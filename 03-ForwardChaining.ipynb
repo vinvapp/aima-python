{
 "cells": [
  {
   "cell_type": "markdown",
   "metadata": {},
   "source": [
    "# Forward Chaining"
   ]
  },
  {
   "cell_type": "markdown",
   "metadata": {},
   "source": [
    "This Jupyter notebook demonstrates how *Forward Chaining* can be used to infere knowledge from a First-Order Logic knowledge base."
   ]
  },
  {
   "cell_type": "markdown",
   "metadata": {},
   "source": [
    "Import modules:"
   ]
  },
  {
   "cell_type": "code",
   "execution_count": 1,
   "metadata": {
    "scrolled": false
   },
   "outputs": [],
   "source": [
    "from utils import *\n",
    "from logic import *"
   ]
  },
  {
   "cell_type": "markdown",
   "metadata": {},
   "source": [
    "### Initialize Knowledge Base:"
   ]
  },
  {
   "cell_type": "markdown",
   "metadata": {},
   "source": [
    "We consider the *Criminal West* example from the lecture. The example makes use of the following predicate symbols:\n",
    "\n",
    "* `Criminal(x)`: `x` is a criminal\n",
    "* `American(x)`: `x` is an American\n",
    "* `Enemy(x ,y)`: `x` is an enemy of `y`\n",
    "* `Sells(x ,y, z)`: `x` sells `y` to `z`\n",
    "* `Owns(x ,y)`: `x` owns `y`\n",
    "* `Weapon(x)`: `x` is a weapon\n",
    "* `Hostile(x)`: `x` is a hostile nation\n",
    "\n",
    "Furthermore, the constant symbols `Nono`, `West`, and `America` are given.\n",
    "\n",
    "Before we can apply the *Forward Chaining* algorithm, we have to construct our knowledge base by adding all relevant clauses:"
   ]
  },
  {
   "cell_type": "code",
   "execution_count": 2,
   "metadata": {},
   "outputs": [],
   "source": [
    "clauses = []"
   ]
  },
  {
   "cell_type": "markdown",
   "metadata": {},
   "source": [
    "<em>“... it is a crime for an American to sell weapons to hostile nations”</em><br/>\n",
    "\n",
    "$\\text{American}(x) \\land \\text{Weapon}(y) \\land \\text{Sells}(x, y, z) \\land \\text{Hostile}(z) \\implies \\text{Criminal} (x)$"
   ]
  },
  {
   "cell_type": "code",
   "execution_count": 3,
   "metadata": {},
   "outputs": [],
   "source": [
    "clauses.append(expr(\"(American(x) & Weapon(y) & Sells(x, y, z) & Hostile(z)) ==> Criminal(x)\"))"
   ]
  },
  {
   "cell_type": "markdown",
   "metadata": {},
   "source": [
    "<em>\"Nono ... has some missiles\"</em><br/>\n",
    "This states the existence of some missile which is owned by Nono. $\\exists x \\text{Owns}(\\text{Nono}, x) \\land \\text{Missile}(x)$. We invoke existential instantiation to introduce a new constant `M1` which is the missile owned by Nono.\n",
    "\n",
    "$\\text{Owns}(\\text{Nono}, \\text{M1}), \\text{Missile}(\\text{M1})$"
   ]
  },
  {
   "cell_type": "code",
   "execution_count": 4,
   "metadata": {},
   "outputs": [],
   "source": [
    "clauses.append(expr(\"Owns(Nono, M1)\"))\n",
    "clauses.append(expr(\"Missile(M1)\"))"
   ]
  },
  {
   "cell_type": "markdown",
   "metadata": {
    "collapsed": true
   },
   "source": [
    "<em>\".. all of its missiles were sold to it by Colonel West\"</em><br/>\n",
    "\n",
    "$\\text{Missile}(x) \\land \\text{Owns}(\\text{Nono}, x) \\implies \\text{Sells}(\\text{West}, x, \\text{Nono})$"
   ]
  },
  {
   "cell_type": "code",
   "execution_count": 5,
   "metadata": {},
   "outputs": [],
   "source": [
    "clauses.append(expr(\"(Missile(x) & Owns(Nono, x)) ==> Sells(West, x, Nono)\"))"
   ]
  },
  {
   "cell_type": "markdown",
   "metadata": {},
   "source": [
    "<em>“Missiles are weapons”</em><br/>\n",
    "\n",
    "$\\text{Missile}(x) \\implies \\text{Weapon} (x)$"
   ]
  },
  {
   "cell_type": "code",
   "execution_count": 6,
   "metadata": {},
   "outputs": [],
   "source": [
    "clauses.append(expr(\"Missile(x) ==> Weapon(x)\"))"
   ]
  },
  {
   "cell_type": "markdown",
   "metadata": {},
   "source": [
    "<em>“An enemy of America counts as hostile”</em><br/>\n",
    "\n",
    "$\\text{Enemy}(x, \\text{America}) \\implies \\text{Hostile}(x)$"
   ]
  },
  {
   "cell_type": "code",
   "execution_count": 7,
   "metadata": {},
   "outputs": [],
   "source": [
    "clauses.append(expr(\"Enemy(x, America) ==> Hostile(x)\"))"
   ]
  },
  {
   "cell_type": "markdown",
   "metadata": {},
   "source": [
    "<em>\"West, who is American ...\"</em><br/>\n",
    "\n",
    "$\\text{American}(\\text{West})$"
   ]
  },
  {
   "cell_type": "code",
   "execution_count": 8,
   "metadata": {},
   "outputs": [],
   "source": [
    "clauses.append(expr(\"American(West)\"))"
   ]
  },
  {
   "cell_type": "markdown",
   "metadata": {},
   "source": [
    "<em>\"The country Nono, an enemy of America ...\"</em><br/>\n",
    "\n",
    "$\\text{Enemy}(\\text{Nono}, \\text{America})$"
   ]
  },
  {
   "cell_type": "code",
   "execution_count": 9,
   "metadata": {},
   "outputs": [],
   "source": [
    "clauses.append(expr(\"Enemy(Nono, America)\"))"
   ]
  },
  {
   "cell_type": "markdown",
   "metadata": {},
   "source": [
    "Now that we have converted the information into first-order definite clauses we can create our first-order logic knowledge base."
   ]
  },
  {
   "cell_type": "code",
   "execution_count": 10,
   "metadata": {},
   "outputs": [],
   "source": [
    "crime_kb = FolKB(clauses)"
   ]
  },
  {
   "cell_type": "markdown",
   "metadata": {},
   "source": [
    "### Forward Chaining Algorithm:"
   ]
  },
  {
   "cell_type": "markdown",
   "metadata": {},
   "source": [
    "Now we want to check if Colonel West is a criminal by applying the *Forward Chaining* algorithm. We use the following modified version of the `fol_fc_ask` function which additionally prints out the infered clauses:"
   ]
  },
  {
   "cell_type": "code",
   "execution_count": 11,
   "metadata": {},
   "outputs": [],
   "source": [
    "def fol_fc_ask_debug(KB, alpha):\n",
    "    \"\"\"A simple forward-chaining algorithm. (Debug Version)\"\"\"\n",
    "    print(\"Forward Chaining:\")\n",
    "    print(KB.clauses, \"==>\", alpha)\n",
    "    print()\n",
    "    \n",
    "    #all constant symbols (like 'Nono' or 'West')\n",
    "    kb_consts = list({c for clause in KB.clauses for c in constant_symbols(clause)})\n",
    "    \n",
    "    # iterator over all possible substitutions\n",
    "    def enum_subst(p):\n",
    "        query_vars = list({v for clause in p for v in variables(clause)})\n",
    "        for assignment_list in itertools.product(kb_consts, repeat=len(query_vars)):\n",
    "            theta = {x: y for x, y in zip(query_vars, assignment_list)}\n",
    "            yield theta\n",
    "\n",
    "    # check if we can answer without new inferences\n",
    "    for q in KB.clauses:\n",
    "        phi = unify(q, alpha, {})\n",
    "        if phi is not None:\n",
    "            yield phi\n",
    "\n",
    "    while True:\n",
    "        # new clauses to be added to KB\n",
    "        new = []\n",
    "        for rule in KB.clauses:\n",
    "            # split rule into a list of premises (p), and a conclusion (q)\n",
    "            p, q = parse_definite_clause(rule)\n",
    "            for theta in enum_subst(p):\n",
    "                if set(subst(theta, p)).issubset(set(KB.clauses)):\n",
    "                    # all substituted premises are in the knowledge base\n",
    "                    # => substituted conclusion q_ is true\n",
    "                    q_ = subst(theta, q)\n",
    "                    if all([unify(x, q_, {}) is None for x in KB.clauses + new]):\n",
    "                        # if there is not a more generic clause add q_ to new\n",
    "                        new.append(q_)\n",
    "                        phi = unify(q_, alpha, {})\n",
    "                        if phi is not None:\n",
    "                            # yield substitution for alpha\n",
    "                            yield phi\n",
    "        if not new:\n",
    "            # no new clauses, so stop\n",
    "            break\n",
    "        for clause in new:\n",
    "            print(\"add to KB:\", clause)\n",
    "            KB.tell(clause)\n",
    "    print()\n",
    "    return None"
   ]
  },
  {
   "cell_type": "markdown",
   "metadata": {},
   "source": [
    "To check if Colonel West is a criminal we apply the *Forward Chaining* algorithm for the query $\\alpha = \\text{Criminal(West)}$:"
   ]
  },
  {
   "cell_type": "code",
   "execution_count": 12,
   "metadata": {
    "scrolled": false
   },
   "outputs": [
    {
     "name": "stdout",
     "output_type": "stream",
     "text": [
      "Forward Chaining:\n",
      "[((((American(x) & Weapon(y)) & Sells(x, y, z)) & Hostile(z)) ==> Criminal(x)), Owns(Nono, M1), Missile(M1), ((Missile(x) & Owns(Nono, x)) ==> Sells(West, x, Nono)), (Missile(x) ==> Weapon(x)), (Enemy(x, America) ==> Hostile(x)), American(West), Enemy(Nono, America)] ==> Criminal(West)\n",
      "\n",
      "add to KB: Sells(West, M1, Nono)\n",
      "add to KB: Weapon(M1)\n",
      "add to KB: Hostile(Nono)\n",
      "add to KB: Criminal(West)\n",
      "\n",
      "[{}]\n"
     ]
    }
   ],
   "source": [
    "answer = fol_fc_ask_debug(crime_kb, expr('Criminal(West)'))\n",
    "print(list(answer))"
   ]
  }
 ],
 "metadata": {
  "kernelspec": {
   "display_name": "Python 3",
   "language": "python",
   "name": "python3"
  },
  "language_info": {
   "codemirror_mode": {
    "name": "ipython",
    "version": 3
   },
   "file_extension": ".py",
   "mimetype": "text/x-python",
   "name": "python",
   "nbconvert_exporter": "python",
   "pygments_lexer": "ipython3",
   "version": "3.6.9"
  }
 },
 "nbformat": 4,
 "nbformat_minor": 2
}
